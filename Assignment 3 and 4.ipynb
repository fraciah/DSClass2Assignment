{
 "cells": [
  {
   "cell_type": "code",
   "execution_count": 11,
   "metadata": {},
   "outputs": [
    {
     "name": "stdout",
     "output_type": "stream",
     "text": [
      "~~WELCOME TO OUR CALCULATOR~~\n",
      "Enter the first number: 120\n",
      "Enter the second number: 6\n",
      "Choose one of the following options:\n",
      " 1.Addition\n",
      " 2.Subtraction\n",
      " 3.Multiplication\n",
      " 4.Division\n",
      "4\n",
      "Their division:  20.0\n",
      "~~THANK YOU FOR USING OUR CALCULATOR~~\n"
     ]
    }
   ],
   "source": [
    "#Assignment 3: Simple calculator\n",
    "print(\"~~WELCOME TO OUR CALCULATOR~~\")\n",
    "first_no=input(\"Enter the first number: \")\n",
    "second_no=input(\"Enter the second number: \")\n",
    "choose=input(\"Choose one of the following options:\\n 1.Addition\\n 2.Subtraction\\n 3.Multiplication\\n 4.Division\\n\")\n",
    "add=float(first_no)+float(second_no)\n",
    "diff=float(first_no)-float(second_no)\n",
    "mult=float(first_no)*float(second_no)\n",
    "div=float(first_no)/float(second_no)\n",
    "if(choose==\"1\"):\n",
    "    print(\"The sum is:\",add)\n",
    "elif(choose==\"2\"):\n",
    "    print(\"The difference is: \",diff)\n",
    "elif(choose==\"3\"):\n",
    "    print(\"Their multiplication: \",mult)\n",
    "elif(choose==\"4\"):\n",
    "    print(\"Their division: \",div)\n",
    "else:\n",
    "    print(\"\\nPlease choose a number from above\")\n",
    "    \n",
    "print(\"~~THANK YOU FOR USING OUR CALCULATOR~~\")\n"
   ]
  },
  {
   "cell_type": "code",
   "execution_count": 10,
   "metadata": {},
   "outputs": [
    {
     "name": "stdout",
     "output_type": "stream",
     "text": [
      "Multiplication table of 5 using for loop\n",
      "5 X 1 = 5\n",
      "5 X 2 = 10\n",
      "5 X 3 = 15\n",
      "5 X 4 = 20\n",
      "5 X 5 = 25\n",
      "5 X 6 = 30\n",
      "5 X 7 = 35\n",
      "5 X 8 = 40\n",
      "5 X 9 = 45\n",
      "5 X 10 = 50\n",
      "5 X 11 = 55\n",
      "5 X 12 = 60\n"
     ]
    }
   ],
   "source": [
    "#Assignment 4:Multiplication table of 5 using for loop\n",
    "print(\"Multiplication table of 5 using for loop\")\n",
    "a=5\n",
    "for n in range(1,13):\n",
    "    print(a,\"X\",n,\"=\",a * n)"
   ]
  }
 ],
 "metadata": {
  "kernelspec": {
   "display_name": "Python 3",
   "language": "python",
   "name": "python3"
  },
  "language_info": {
   "codemirror_mode": {
    "name": "ipython",
    "version": 3
   },
   "file_extension": ".py",
   "mimetype": "text/x-python",
   "name": "python",
   "nbconvert_exporter": "python",
   "pygments_lexer": "ipython3",
   "version": "3.8.5"
  }
 },
 "nbformat": 4,
 "nbformat_minor": 4
}
